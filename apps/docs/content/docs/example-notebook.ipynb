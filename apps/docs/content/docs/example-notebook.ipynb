{
  "cells": [
    {
      "cell_type": "raw",
      "metadata": {
        "vscode": {
          "languageId": "raw"
        }
      },
      "source": [
        "# Data Analysis and Visualization Demo\n",
        "\n",
        "This notebook demonstrates various output types including images, plots, and data visualizations.\n"
      ]
    },
    {
      "cell_type": "code",
      "execution_count": null,
      "metadata": {},
      "outputs": [],
      "source": [
        "import numpy as np\n",
        "import pandas as pd\n",
        "import matplotlib.pyplot as plt\n",
        "import seaborn as sns\n",
        "\n",
        "# Set up the plotting style\n",
        "plt.style.use('default')\n",
        "sns.set_palette(\"husl\")\n",
        "\n",
        "print(\"Libraries imported successfully!\")\n",
        "print(f\"NumPy version: {np.__version__}\")\n",
        "print(f\"Pandas version: {pd.__version__}\")\n",
        "print(f\"Matplotlib version: {plt.matplotlib.__version__}\")\n"
      ]
    },
    {
      "cell_type": "code",
      "execution_count": null,
      "metadata": {},
      "outputs": [],
      "source": [
        "# Create sample dataset\n",
        "np.random.seed(42)\n",
        "n_samples = 1000\n",
        "\n",
        "# Generate synthetic data\n",
        "data = {\n",
        "    'x': np.random.randn(n_samples),\n",
        "    'y': np.random.randn(n_samples),\n",
        "    'category': np.random.choice(['A', 'B', 'C'], n_samples),\n",
        "    'values': np.random.exponential(2, n_samples)\n",
        "}\n",
        "\n",
        "df = pd.DataFrame(data)\n",
        "df['z'] = 0.5 * df['x'] + 0.3 * df['y'] + np.random.randn(n_samples) * 0.1\n",
        "\n",
        "print(f\"Dataset created with {len(df)} rows and {len(df.columns)} columns\")\n",
        "print(\"\\nFirst few rows:\")\n",
        "df.head()\n"
      ]
    },
    {
      "cell_type": "raw",
      "metadata": {
        "vscode": {
          "languageId": "raw"
        }
      },
      "source": [
        "## Data Visualization\n",
        "\n",
        "Let's create several plots to demonstrate different visualization types and image output formats.\n"
      ]
    },
    {
      "cell_type": "code",
      "execution_count": null,
      "metadata": {},
      "outputs": [],
      "source": [
        "# Create a scatter plot with multiple subplots\n",
        "fig, axes = plt.subplots(2, 2, figsize=(12, 10))\n",
        "fig.suptitle('Multi-panel Data Visualization', fontsize=16, fontweight='bold')\n",
        "\n",
        "# Scatter plot\n",
        "axes[0, 0].scatter(df['x'], df['y'], c=df['values'], alpha=0.6, cmap='viridis')\n",
        "axes[0, 0].set_xlabel('X values')\n",
        "axes[0, 0].set_ylabel('Y values')\n",
        "axes[0, 0].set_title('Scatter Plot with Color Mapping')\n",
        "\n",
        "# Histogram\n",
        "axes[0, 1].hist(df['values'], bins=30, alpha=0.7, color='skyblue', edgecolor='black')\n",
        "axes[0, 1].set_xlabel('Values')\n",
        "axes[0, 1].set_ylabel('Frequency')\n",
        "axes[0, 1].set_title('Distribution of Values')\n",
        "\n",
        "# Box plot by category\n",
        "df.boxplot(column='values', by='category', ax=axes[1, 0])\n",
        "axes[1, 0].set_title('Values by Category')\n",
        "axes[1, 0].set_xlabel('Category')\n",
        "\n",
        "# Correlation heatmap\n",
        "correlation_matrix = df[['x', 'y', 'z', 'values']].corr()\n",
        "im = axes[1, 1].imshow(correlation_matrix, cmap='coolwarm', aspect='auto')\n",
        "axes[1, 1].set_xticks(range(len(correlation_matrix.columns)))\n",
        "axes[1, 1].set_yticks(range(len(correlation_matrix.columns)))\n",
        "axes[1, 1].set_xticklabels(correlation_matrix.columns)\n",
        "axes[1, 1].set_yticklabels(correlation_matrix.columns)\n",
        "axes[1, 1].set_title('Correlation Matrix')\n",
        "\n",
        "plt.tight_layout()\n",
        "plt.show()\n"
      ]
    },
    {
      "cell_type": "code",
      "execution_count": null,
      "metadata": {},
      "outputs": [],
      "source": [
        "# Statistical summary as JSON\n",
        "summary_stats = {\n",
        "    'dataset_info': {\n",
        "        'n_samples': len(df),\n",
        "        'n_features': len(df.columns),\n",
        "        'memory_usage': f\"{df.memory_usage(deep=True).sum() / 1024:.2f} KB\"\n",
        "    },\n",
        "    'numerical_summary': {\n",
        "        'x': {\n",
        "            'mean': float(df['x'].mean()),\n",
        "            'std': float(df['x'].std()),\n",
        "            'min': float(df['x'].min()),\n",
        "            'max': float(df['x'].max())\n",
        "        },\n",
        "        'y': {\n",
        "            'mean': float(df['y'].mean()),\n",
        "            'std': float(df['y'].std()),\n",
        "            'min': float(df['y'].min()),\n",
        "            'max': float(df['y'].max())\n",
        "        },\n",
        "        'values': {\n",
        "            'mean': float(df['values'].mean()),\n",
        "            'std': float(df['values'].std()),\n",
        "            'min': float(df['values'].min()),\n",
        "            'max': float(df['values'].max())\n",
        "        }\n",
        "    },\n",
        "    'category_counts': df['category'].value_counts().to_dict()\n",
        "}\n",
        "\n",
        "# Display as JSON\n",
        "import json\n",
        "print(json.dumps(summary_stats, indent=2))\n",
        "\n",
        "# Also return as object for JSON display\n",
        "summary_stats\n"
      ]
    },
    {
      "cell_type": "raw",
      "metadata": {
        "vscode": {
          "languageId": "raw"
        }
      },
      "source": [
        "## Summary\n",
        "\n",
        "This notebook demonstrated:\n",
        "\n",
        "1. **Data Import and Processing** - Loading libraries and creating synthetic data\n",
        "2. **Data Exploration** - Displaying DataFrame structure and summary statistics  \n",
        "3. **Visualization** - Multiple plot types in a single figure\n",
        "4. **JSON Output** - Structured data display with proper formatting\n",
        "5. **Mixed Output Types** - Combination of text, plots, and structured data\n",
        "\n",
        "The notebook showcases various output formats that are properly handled by the MDX notebook renderer:\n",
        "- **Text streams** (print statements)\n",
        "- **HTML tables** (DataFrame displays)\n",
        "- **Images** (matplotlib plots)\n",
        "- **JSON data** (structured objects)\n",
        "\n",
        "All outputs maintain their original formatting and interactivity when displayed in the documentation.\n"
      ]
    },
    {
      "cell_type": "raw",
      "metadata": {
        "vscode": {
          "languageId": "raw"
        }
      },
      "source": [
        "# Data Analysis Example\n",
        "\n",
        "This notebook demonstrates basic data analysis using Python.\n"
      ]
    },
    {
      "cell_type": "code",
      "execution_count": 4,
      "metadata": {},
      "outputs": [
        {
          "name": "stdout",
          "output_type": "stream",
          "text": [
            "Generated 100 data points\n",
            "Mean: -0.10\n",
            "Std: 0.90\n"
          ]
        }
      ],
      "source": [
        "import numpy as np\n",
        "import pandas as pd\n",
        "import matplotlib.pyplot as plt\n",
        "\n",
        "# Create sample data\n",
        "np.random.seed(42)\n",
        "data = np.random.randn(100)\n",
        "print(f\"Generated {len(data)} data points\")\n",
        "print(f\"Mean: {np.mean(data):.2f}\")\n",
        "print(f\"Std: {np.std(data):.2f}\")\n"
      ]
    },
    {
      "cell_type": "raw",
      "metadata": {
        "vscode": {
          "languageId": "raw"
        }
      },
      "source": [
        "## Data Visualization\n",
        "\n",
        "Let's create a simple histogram to visualize the data distribution.\n"
      ]
    },
    {
      "cell_type": "code",
      "execution_count": 5,
      "metadata": {},
      "outputs": [
        {
          "data": {
            "image/png": "[encoded data removed]",
            "text/plain": [
              "<Figure size 1000x600 with 1 Axes>"
            ]
          },
          "metadata": {},
          "output_type": "display_data"
        }
      ],
      "source": [
        "plt.figure(figsize=(10, 6))\n",
        "plt.hist(data, bins=20, alpha=0.7, color='skyblue', edgecolor='black')\n",
        "plt.title('Distribution of Random Data')\n",
        "plt.xlabel('Value')\n",
        "plt.ylabel('Frequency')\n",
        "plt.grid(True, alpha=0.3)\n",
        "plt.show()\n"
      ]
    },
    {
      "cell_type": "code",
      "execution_count": 6,
      "metadata": {},
      "outputs": [
        {
          "data": {
            "text/plain": [
              "array([ 0.49671415, -0.1382643 ,  0.64768854,  1.52302986, -0.23415337])"
            ]
          },
          "execution_count": 6,
          "metadata": {},
          "output_type": "execute_result"
        }
      ],
      "source": [
        "# Show first 5 data points\n",
        "data[:5]\n"
      ]
    },
    {
      "cell_type": "markdown",
      "metadata": {
        "vscode": {
          "languageId": "raw"
        }
      },
      "source": [
        "## Summary\n",
        "\n",
        "This notebook showed how to:\n",
        "1. Generate random data using NumPy\n",
        "2. Calculate basic statistics\n",
        "3. Create visualizations with Matplotlib\n",
        "\n",
        "The data follows a normal distribution as expected.\n"
      ]
    }
  ],
  "metadata": {
    "kernelspec": {
      "display_name": "Python 3",
      "language": "python",
      "name": "python3"
    },
    "language_info": {
      "name": "python",
      "version": "3.9.6"
    }
  },
  "nbformat": 4,
  "nbformat_minor": 2
}
